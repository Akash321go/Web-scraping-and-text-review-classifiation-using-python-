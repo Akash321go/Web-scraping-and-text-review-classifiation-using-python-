{
 "cells": [
  {
   "cell_type": "markdown",
   "metadata": {},
   "source": [
    "# _COMP41680 Assignment 2: Text Classification by Akash Nanndi(17200206)_"
   ]
  },
  {
   "cell_type": "code",
   "execution_count": 1,
   "metadata": {
    "collapsed": true
   },
   "outputs": [],
   "source": [
    "# Importing the required libraries\n",
    "import pandas as pd\n",
    "import numpy as np\n",
    "import bs4\n",
    "from sklearn.model_selection import train_test_split\n",
    "from sklearn.feature_extraction.text import CountVectorizer\n",
    "from sklearn.naive_bayes import MultinomialNB\n",
    "from sklearn.feature_selection import chi2\n",
    "from sklearn.feature_extraction.text import TfidfVectorizer\n",
    "from sklearn.feature_extraction.text import TfidfTransformer\n",
    "import urllib.request\n",
    "from sklearn.linear_model import LogisticRegression\n",
    "from sklearn.ensemble import RandomForestClassifier\n",
    "from sklearn.svm import LinearSVC\n",
    "from sklearn.tree import DecisionTreeClassifier\n",
    "from sklearn.model_selection import cross_val_score\n",
    "from sklearn.neighbors import KNeighborsClassifier\n",
    "from sklearn.metrics import confusion_matrix\n",
    "from sklearn import metrics\n",
    "import seaborn as sns\n",
    "import matplotlib.pyplot as plt"
   ]
  },
  {
   "cell_type": "code",
   "execution_count": 2,
   "metadata": {
    "collapsed": true
   },
   "outputs": [],
   "source": [
    "link = \"http://mlg.ucd.ie/modules/yalp/\" # Storing the main link of all the categories in variable link"
   ]
  },
  {
   "cell_type": "code",
   "execution_count": 3,
   "metadata": {},
   "outputs": [
    {
     "name": "stdout",
     "output_type": "stream",
     "text": [
      "<!DOCTYPE html>\n",
      "<html lang=\"en\">\n",
      "<head>\n",
      "    <meta name=\"robots\" content=\"noindex\">  \n",
      "    <meta name=\"description\" content=\"Content on this site is posted for teaching purposes only. Original data is from yelp.com\">\n",
      "    <meta charset=\"utf-8\">\n",
      "    <meta http-equiv=\"X-UA-Compatible\" content=\"IE=edge\">\n",
      "    <meta name=\"viewport\" content=\"width=device-width, initial-scale=1\">\n",
      "    <title>Yalp Reviews &mdash; Home</title>\n",
      "    <link rel=\"shortcut icon\" href=\"images/favicon.ico\">\n",
      "    <!-- Bootstrap core CSS -->\n",
      "    <link href=\"assets/css/bootstrap.css\" rel=\"stylesheet\">\n",
      "    <!-- Custom styles for this template -->\n",
      "    <link href=\"assets/css/style.css\" rel=\"stylesheet\">\n",
      "    <link href=\"assets/css/font-awesome.min.css\" rel=\"stylesheet\">\n",
      "    <script src=\"assets/js/modernizr.js\"></script>\n",
      "</head>\n",
      "<body>\n",
      "    <div class=\"container mtb\">\n",
      "    <div class=\"row\">\n",
      "    <div class=\"col-md-12\">\n",
      "      <h3 class=\"info\">Yalp Reviews &mdash; Home</h3>\n",
      "    </div>\n",
      "    </div>\n",
      "    <div class=\"row\">\n",
      "        <div name=\"main\" class=\"col-md-10\">\n",
      "\n",
      "   \n",
      "    \n",
      "\n",
      "<div class='cat'><h4><a href='automotive_list.html'>Category: Automotive</a>&nbsp;&nbsp;(1455 reviews)</h4></div>\n",
      "\t\t\t<div class='cat'><h4><a href='bars_list.html'>Category: Bars</a>&nbsp;&nbsp;(1460 reviews)</h4></div>\n",
      "\t\t\t<div class='cat'><h4><a href='health_medical_list.html'>Category: Health and medical</a>&nbsp;&nbsp;(1450 reviews)</h4></div>\n",
      "\t\t\t<div class='cat'><h4><a href='hotels_travel_list.html'>Category: Hotels and travel</a>&nbsp;&nbsp;(1430 reviews)</h4></div>\n",
      "\t\t\t<div class='cat'><h4><a href='restaurants_list.html'>Category: Restaurants</a>&nbsp;&nbsp;(1440 reviews)</h4></div>\n",
      "    <div class=\"footer\">\n",
      "    Content on this site is posted for teaching purposes only. \n",
      "    </div>\n",
      "\n",
      "    <!-- Bootstrap core JavaScript\n",
      "    ================================================== -->\n",
      "    <!-- Placed at the end of the document so the pages load faster -->\n",
      "    <script src=\"https://ajax.googleapis.com/ajax/libs/jquery/1.11.0/jquery.min.js\"></script>\n",
      "    <script src=\"assets/js/bootstrap.min.js\"></script>\n",
      "    <script src=\"assets/js/retina-1.1.0.js\"></script>\n",
      "    <script src=\"assets/js/jquery.hoverdir.js\"></script>\n",
      "    <script src=\"assets/js/jquery.hoverex.min.js\"></script>\n",
      "    <script src=\"assets/js/jquery.isotope.min.js\"></script>\n",
      "    <script src=\"assets/js/custom.js\"></script>\n",
      "  </body>\n",
      "</html>\n"
     ]
    }
   ],
   "source": [
    "response = urllib.request.urlopen(link)\n",
    "html = response.read().decode()\n",
    "lines = html.strip().split(\"\\n\")\n",
    "for l in lines:\n",
    " print(l) # Print out the structure of the webpage to understand which tags to work with ahead"
   ]
  },
  {
   "cell_type": "markdown",
   "metadata": {},
   "source": [
    "## _<font color=blue>Task 1: Select two review categories of your choice</font>_"
   ]
  },
  {
   "cell_type": "code",
   "execution_count": 4,
   "metadata": {},
   "outputs": [
    {
     "name": "stdout",
     "output_type": "stream",
     "text": [
      "['automotive_list.html', 'bars_list.html', 'health_medical_list.html', 'hotels_travel_list.html', 'restaurants_list.html']\n"
     ]
    }
   ],
   "source": [
    "links = []\n",
    "parser = bs4.BeautifulSoup(html,\"html.parser\")\n",
    "for linkk in parser.findAll('a'):\n",
    "    links.append(linkk.get('href'))\n",
    "print(links)"
   ]
  },
  {
   "cell_type": "markdown",
   "metadata": {},
   "source": [
    "### _Here we are selecting categories(Hotels and Travel, Resturants)_"
   ]
  },
  {
   "cell_type": "code",
   "execution_count": 5,
   "metadata": {
    "collapsed": true
   },
   "outputs": [],
   "source": [
    "links=[link+links[3],link+links[4]] # Storing the links of the two categories that we need in links"
   ]
  },
  {
   "cell_type": "code",
   "execution_count": 6,
   "metadata": {
    "collapsed": true
   },
   "outputs": [],
   "source": [
    "sublinks=[]\n",
    "for l in links:\n",
    "    a=[]\n",
    "    response = urllib.request.urlopen(l)\n",
    "    html = response.read().decode()\n",
    "    parser = bs4.BeautifulSoup(html,\"html.parser\")\n",
    "    for linkk in parser.findAll('a'):\n",
    "        a.append(linkk.get('href')) # Gets the link of the reviews for individual businesses inside each category and appends them to sublinks\n",
    "    sublinks.append(a)"
   ]
  },
  {
   "cell_type": "code",
   "execution_count": 7,
   "metadata": {
    "collapsed": true
   },
   "outputs": [],
   "source": [
    "sublinks = [ [link+c for c in a] for a in sublinks] # Appending the initial part of the link stored in variable link to the rest of the link"
   ]
  },
  {
   "cell_type": "code",
   "execution_count": 8,
   "metadata": {},
   "outputs": [
    {
     "data": {
      "text/plain": [
       "[['http://mlg.ucd.ie/modules/yalp/reviews_Nip4TJZjarrZv2lrPA0YBw.html',\n",
       "  'http://mlg.ucd.ie/modules/yalp/reviews_i8vUkYPbaXON_42F-bu4pQ.html',\n",
       "  'http://mlg.ucd.ie/modules/yalp/reviews_o9HuejkSCUgoXnvkihGx2w.html',\n",
       "  'http://mlg.ucd.ie/modules/yalp/reviews_RYfY6Y2PGVF08Vq2TdDZ-Q.html',\n",
       "  'http://mlg.ucd.ie/modules/yalp/reviews_E-6l98hX8jICTF6rKHxI8g.html',\n",
       "  'http://mlg.ucd.ie/modules/yalp/reviews_YFj05UteXLZ_ntk709REAA.html',\n",
       "  'http://mlg.ucd.ie/modules/yalp/reviews_pnGOezHAOkzk8FmGVL83Ug.html',\n",
       "  'http://mlg.ucd.ie/modules/yalp/reviews_LnOQxu8snN8DxMCzlFWtxQ.html',\n",
       "  'http://mlg.ucd.ie/modules/yalp/reviews_ewd4zzAQ-jWF4AO4TfDD0w.html',\n",
       "  'http://mlg.ucd.ie/modules/yalp/reviews_0OZHqFXau4M5-ScGbiPKpA.html',\n",
       "  'http://mlg.ucd.ie/modules/yalp/reviews_ZTKtzIGm8Sq93beLHlzQ8A.html',\n",
       "  'http://mlg.ucd.ie/modules/yalp/reviews_F29wOTdDvl0qZw0GPPYkIQ.html',\n",
       "  'http://mlg.ucd.ie/modules/yalp/reviews_UiAcw5clXtPReXfI11jTcw.html',\n",
       "  'http://mlg.ucd.ie/modules/yalp/reviews_L3iHzME7qhwKFl_EaJO49Q.html',\n",
       "  'http://mlg.ucd.ie/modules/yalp/reviews_ppzuiLwc5o57GCAQ0S2FYw.html',\n",
       "  'http://mlg.ucd.ie/modules/yalp/reviews_cLojVvdeza3rKuDywvT7ZQ.html',\n",
       "  'http://mlg.ucd.ie/modules/yalp/reviews_5wVEM8y3RWFazrsIwds5AA.html',\n",
       "  'http://mlg.ucd.ie/modules/yalp/reviews_Hh4rvCDOOb7S33WUP74tRQ.html',\n",
       "  'http://mlg.ucd.ie/modules/yalp/reviews_lImEtP5h-fCS5zl_oIe3Ig.html',\n",
       "  'http://mlg.ucd.ie/modules/yalp/reviews_hjABTon2vVSrfjL5o9_CGw.html',\n",
       "  'http://mlg.ucd.ie/modules/yalp/reviews_f8p6GuPCcfxosQQUGIsY3w.html',\n",
       "  'http://mlg.ucd.ie/modules/yalp/reviews_iXONwpI8qvwgEJBXV10rLw.html',\n",
       "  'http://mlg.ucd.ie/modules/yalp/reviews_eWg_XPt--3IWyMCZ_1dFlw.html',\n",
       "  'http://mlg.ucd.ie/modules/yalp/reviews_zjGYnTAnBbOAJMw3q6ldYg.html',\n",
       "  'http://mlg.ucd.ie/modules/yalp/reviews_FY60hIUaAKTzNwTwy5SpcA.html',\n",
       "  'http://mlg.ucd.ie/modules/yalp/reviews_OIOqy9gh3LOoyso3JMwyyA.html',\n",
       "  'http://mlg.ucd.ie/modules/yalp/reviews_WQ8XMhzBORUG6r5GQuZ7hQ.html',\n",
       "  'http://mlg.ucd.ie/modules/yalp/reviews_YGETnPUejkVPiQOGwLxMUQ.html',\n",
       "  'http://mlg.ucd.ie/modules/yalp/reviews_1-3QXTEwl1pfZn9kXFgN3Q.html',\n",
       "  'http://mlg.ucd.ie/modules/yalp/reviews_xuo8Ftr6nyjjxAOaUog7qg.html',\n",
       "  'http://mlg.ucd.ie/modules/yalp/reviews_Ij00ADkSvmJrYrs9mFAkGA.html',\n",
       "  'http://mlg.ucd.ie/modules/yalp/reviews_xrtANyNQxFqf50vB2UC79g.html',\n",
       "  'http://mlg.ucd.ie/modules/yalp/reviews_FmGZh8ZwEnSO860_2eiYHw.html',\n",
       "  'http://mlg.ucd.ie/modules/yalp/reviews_So1fzEDZ_qcFDhyYd6XG7w.html',\n",
       "  'http://mlg.ucd.ie/modules/yalp/reviews_IgticM29BbV8n9o-V8Ac8Q.html',\n",
       "  'http://mlg.ucd.ie/modules/yalp/reviews_9Ce8yPCXgi7_HFcRkBdwlA.html',\n",
       "  'http://mlg.ucd.ie/modules/yalp/reviews_efwZXuea3BzcOOhK-6FvDQ.html',\n",
       "  'http://mlg.ucd.ie/modules/yalp/reviews_iCCsd62g79PDjswXaqxltw.html',\n",
       "  'http://mlg.ucd.ie/modules/yalp/reviews_NUsJcg_JO0h-OMdn0zMoyg.html',\n",
       "  'http://mlg.ucd.ie/modules/yalp/reviews_2h4YvkznuX0ctp2gySJYpw.html',\n",
       "  'http://mlg.ucd.ie/modules/yalp/reviews_37f9w8jmMwa_QQ9GDjs7hg.html',\n",
       "  'http://mlg.ucd.ie/modules/yalp/reviews_yuzxs3mKmKKioX3c6w8RLg.html',\n",
       "  'http://mlg.ucd.ie/modules/yalp/reviews_Ci2CoXI2s4eCOdgAmDAdig.html',\n",
       "  'http://mlg.ucd.ie/modules/yalp/reviews_PDN-e8ijHW5DXglzfBWgpg.html',\n",
       "  'http://mlg.ucd.ie/modules/yalp/reviews_d4xLGNickA0WmtKWOk5tog.html',\n",
       "  'http://mlg.ucd.ie/modules/yalp/reviews_sbN7xr8L2XQ_k4_3pDDs1A.html',\n",
       "  'http://mlg.ucd.ie/modules/yalp/reviews_JKcMeLcIQ-3VLi-PKmQF8A.html',\n",
       "  'http://mlg.ucd.ie/modules/yalp/reviews_W8_CREwb8lvpNo6xVBQMMA.html',\n",
       "  'http://mlg.ucd.ie/modules/yalp/reviews_mruax-1iDdb8GlAKwLy8JQ.html',\n",
       "  'http://mlg.ucd.ie/modules/yalp/reviews_Dcp9djUhDx4ERv8CgZnpDg.html',\n",
       "  'http://mlg.ucd.ie/modules/yalp/reviews_hOB3NHuF-iVFdEkrA-PUlg.html',\n",
       "  'http://mlg.ucd.ie/modules/yalp/reviews_h_EwoEPYzySS8lY-iGxSqQ.html',\n",
       "  'http://mlg.ucd.ie/modules/yalp/reviews_5QIICikdjyCqKS6hgkgjiQ.html',\n",
       "  'http://mlg.ucd.ie/modules/yalp/reviews__ki-51g5W8beGcqvzVALfw.html',\n",
       "  'http://mlg.ucd.ie/modules/yalp/reviews_Ed1w0deMDWZ4UFwJmaSEgQ.html',\n",
       "  'http://mlg.ucd.ie/modules/yalp/reviews_YPNoONJbywLnUUT8vbF_ZQ.html',\n",
       "  'http://mlg.ucd.ie/modules/yalp/reviews_O7z7Qb0oOcVkrClpmkhyAg.html',\n",
       "  'http://mlg.ucd.ie/modules/yalp/reviews_3SudVNXtmAfmsgD06pqIYw.html',\n",
       "  'http://mlg.ucd.ie/modules/yalp/reviews_YkHd_jANsjKWZu42xhkaKw.html',\n",
       "  'http://mlg.ucd.ie/modules/yalp/reviews_ORmMxiJnz9sMnHLFTZtitw.html',\n",
       "  'http://mlg.ucd.ie/modules/yalp/reviews_Hz79RV53noQOyKqLxyhm2w.html',\n",
       "  'http://mlg.ucd.ie/modules/yalp/reviews_ivyWJ7ho3TB6upzg27ROKQ.html',\n",
       "  'http://mlg.ucd.ie/modules/yalp/reviews_4glZtu7UodFIZ0t_7pYMXQ.html',\n",
       "  'http://mlg.ucd.ie/modules/yalp/reviews_CEcTRHWmv9EVClUv0y3mEw.html',\n",
       "  'http://mlg.ucd.ie/modules/yalp/reviews_yckeKwCt1c7nXozE_sY76Q.html',\n",
       "  'http://mlg.ucd.ie/modules/yalp/reviews_sIogXWARDBB9f3CeF3vnew.html',\n",
       "  'http://mlg.ucd.ie/modules/yalp/reviews_yo0fh_IKjofxANa59BUUwg.html',\n",
       "  'http://mlg.ucd.ie/modules/yalp/reviews_hAo9tNm7VF4bUKTq27jGdw.html',\n",
       "  'http://mlg.ucd.ie/modules/yalp/reviews_fY0RCsymg465GQ7tmxLYog.html',\n",
       "  'http://mlg.ucd.ie/modules/yalp/reviews_1_5fQbRHciJUinP27yWBww.html',\n",
       "  'http://mlg.ucd.ie/modules/yalp/reviews_-8oIw0-YzvYNRydiOPyasw.html',\n",
       "  'http://mlg.ucd.ie/modules/yalp/reviews_DQr0Awv24JVSg5eUyWoR3g.html',\n",
       "  'http://mlg.ucd.ie/modules/yalp/reviews_FeuaUlubwfDXer9rfHfPvQ.html',\n",
       "  'http://mlg.ucd.ie/modules/yalp/reviews_0l9jhK1pm_3JzZE5eYGGww.html',\n",
       "  'http://mlg.ucd.ie/modules/yalp/reviews_ZHqWq4Tc6JplK5V1cV-TDw.html',\n",
       "  'http://mlg.ucd.ie/modules/yalp/reviews_LTywGqbbdAlZr7R5vodlPw.html',\n",
       "  'http://mlg.ucd.ie/modules/yalp/reviews__FKBxtZpTvJNd95b32y-zw.html',\n",
       "  'http://mlg.ucd.ie/modules/yalp/reviews_-Ucy8i4uc_OzN8y5fkGVaQ.html',\n",
       "  'http://mlg.ucd.ie/modules/yalp/reviews_0qY7DsLEEwYaOJ5QUeVVug.html',\n",
       "  'http://mlg.ucd.ie/modules/yalp/reviews_DQGh8Kayilc3VM63usnK5Q.html',\n",
       "  'http://mlg.ucd.ie/modules/yalp/reviews_Sp6HBpMfnPGPQy8HODEmzA.html',\n",
       "  'http://mlg.ucd.ie/modules/yalp/reviews_-VIovoVYsiTt7-U_BNOFnw.html',\n",
       "  'http://mlg.ucd.ie/modules/yalp/reviews_Xdv7w4SB6NTRSXMAHS90zQ.html',\n",
       "  'http://mlg.ucd.ie/modules/yalp/reviews_9de0HpyAgKZ0ltEOo3p6YA.html',\n",
       "  'http://mlg.ucd.ie/modules/yalp/reviews_zEM1xgiSXZwYkPAzfxuTWg.html',\n",
       "  'http://mlg.ucd.ie/modules/yalp/reviews_TsE3smUI7-oF0Twwd_wu9Q.html',\n",
       "  'http://mlg.ucd.ie/modules/yalp/reviews_fguf3pD0NGSfZb7ud6cTxA.html',\n",
       "  'http://mlg.ucd.ie/modules/yalp/reviews_3zdicvwBfRNaZTOwwupWQA.html',\n",
       "  'http://mlg.ucd.ie/modules/yalp/reviews_xSjAsBKHSYaPUwTgrbCDKw.html'],\n",
       " ['http://mlg.ucd.ie/modules/yalp/reviews_9YL6FpVTp9tlOm9MCqfNfA.html',\n",
       "  'http://mlg.ucd.ie/modules/yalp/reviews_qtotIYIF9U1PCEzMl1iE2w.html',\n",
       "  'http://mlg.ucd.ie/modules/yalp/reviews_vzoAKt7ND2YPLYfnVRi_Cg.html',\n",
       "  'http://mlg.ucd.ie/modules/yalp/reviews_3QzPhQ3ltbon0-1gC7Q18Q.html',\n",
       "  'http://mlg.ucd.ie/modules/yalp/reviews_N6MzDoao6s68nAIW8vS9dQ.html',\n",
       "  'http://mlg.ucd.ie/modules/yalp/reviews_GmSomk7UiPR64MFUs0rp2Q.html',\n",
       "  'http://mlg.ucd.ie/modules/yalp/reviews_L3ysePkSGjp11VIcmA3A-Q.html',\n",
       "  'http://mlg.ucd.ie/modules/yalp/reviews_WP1e-VmnTW2K0A9dMCF10g.html',\n",
       "  'http://mlg.ucd.ie/modules/yalp/reviews_-P8dGzSVhJi-5oZ-8U2y0w.html',\n",
       "  'http://mlg.ucd.ie/modules/yalp/reviews_R7eLlAdeIYsxux_Vm0l5sg.html',\n",
       "  'http://mlg.ucd.ie/modules/yalp/reviews_XxnJZbFBJ8BKPg0_4eJdAA.html',\n",
       "  'http://mlg.ucd.ie/modules/yalp/reviews_Yea_hg7GjYfOOzMeBSUNjg.html',\n",
       "  'http://mlg.ucd.ie/modules/yalp/reviews_lej93fq8JwXy9tz-7zQhdA.html',\n",
       "  'http://mlg.ucd.ie/modules/yalp/reviews_ydSiR7YyALkmmACVNtXzhg.html',\n",
       "  'http://mlg.ucd.ie/modules/yalp/reviews_Xz5tTSD3X3gACOiVn101tQ.html',\n",
       "  'http://mlg.ucd.ie/modules/yalp/reviews_J8UNCSLgU0JagFLpicVWXg.html',\n",
       "  'http://mlg.ucd.ie/modules/yalp/reviews_6kbj9mAWX4gCig-Y4WCdHA.html',\n",
       "  'http://mlg.ucd.ie/modules/yalp/reviews_CbpQD3NxSEoN4v7VDXYHAA.html',\n",
       "  'http://mlg.ucd.ie/modules/yalp/reviews_lYbyy6TTmpk_mlYuYAWkDg.html',\n",
       "  'http://mlg.ucd.ie/modules/yalp/reviews_u_vSbtOYpfnzhFRfEhqfyg.html',\n",
       "  'http://mlg.ucd.ie/modules/yalp/reviews_7GSBz8XKGkX0f1XRJwBH_Q.html',\n",
       "  'http://mlg.ucd.ie/modules/yalp/reviews_BPRsP7xV5RkMSCh24BTPzQ.html',\n",
       "  'http://mlg.ucd.ie/modules/yalp/reviews_qq2k2tohpim0gStdb9vCBw.html',\n",
       "  'http://mlg.ucd.ie/modules/yalp/reviews_ZntrjpC6xAPHPVIYc_TUmA.html',\n",
       "  'http://mlg.ucd.ie/modules/yalp/reviews_vqYCZseV9WqasZnO-iSQtg.html',\n",
       "  'http://mlg.ucd.ie/modules/yalp/reviews_biVQDp3K_vNP1eK5wGZOJg.html',\n",
       "  'http://mlg.ucd.ie/modules/yalp/reviews_ssmZUmq3_ObYKjkb7xMndA.html',\n",
       "  'http://mlg.ucd.ie/modules/yalp/reviews_cILk7PnJBxNsMmGhQU2cyA.html',\n",
       "  'http://mlg.ucd.ie/modules/yalp/reviews_3deqbrFWWyHdlvAbmqWqMQ.html',\n",
       "  'http://mlg.ucd.ie/modules/yalp/reviews_PjNMZ_4KhfdxYhQvuORkhg.html',\n",
       "  'http://mlg.ucd.ie/modules/yalp/reviews__XmJ3Y-yGxG2BENWBnYWVQ.html',\n",
       "  'http://mlg.ucd.ie/modules/yalp/reviews_5D2lHX9z-psWbH5Dm0aZxQ.html',\n",
       "  'http://mlg.ucd.ie/modules/yalp/reviews_lR4ybrBnCkWI-BMeDrJwFQ.html',\n",
       "  'http://mlg.ucd.ie/modules/yalp/reviews_4scx_rtI9RZfFHWUxqPuHw.html',\n",
       "  'http://mlg.ucd.ie/modules/yalp/reviews_iKISAYkTEH_KLn7DdNN4Yg.html',\n",
       "  'http://mlg.ucd.ie/modules/yalp/reviews_oXMvjbVKKr629a2FTxXtJA.html',\n",
       "  'http://mlg.ucd.ie/modules/yalp/reviews_caKRXynM5bY922pGtQhvfQ.html',\n",
       "  'http://mlg.ucd.ie/modules/yalp/reviews_y3Wxd_BP3wI3i5HFG6FRnA.html',\n",
       "  'http://mlg.ucd.ie/modules/yalp/reviews_Yn-8zix5_blucvZo3G8kPw.html',\n",
       "  'http://mlg.ucd.ie/modules/yalp/reviews_WEpu2goj7QggSgL_nP2EMg.html',\n",
       "  'http://mlg.ucd.ie/modules/yalp/reviews_HyN6Aj7xcGnIewNwaUko_g.html',\n",
       "  'http://mlg.ucd.ie/modules/yalp/reviews_ceuvH6NpDhpT1p4q1w93pA.html',\n",
       "  'http://mlg.ucd.ie/modules/yalp/reviews_vu8N7IKK8HC0a0omYvtPpQ.html',\n",
       "  'http://mlg.ucd.ie/modules/yalp/reviews_m6ez2OnTHn2-XF40Ry3IuA.html',\n",
       "  'http://mlg.ucd.ie/modules/yalp/reviews_Xgk-d2x59qhPxOsuCKeShw.html',\n",
       "  'http://mlg.ucd.ie/modules/yalp/reviews_nzV7HlERvD_v1DEfL_oiGQ.html',\n",
       "  'http://mlg.ucd.ie/modules/yalp/reviews_8vnQAJ3zzI-iX_d0SI7BUA.html',\n",
       "  'http://mlg.ucd.ie/modules/yalp/reviews_8syeNR6GsIBp1r99vUuHhQ.html',\n",
       "  'http://mlg.ucd.ie/modules/yalp/reviews_rqtruxU_kvgCYNT5rgoB7Q.html',\n",
       "  'http://mlg.ucd.ie/modules/yalp/reviews_GOav54PpK1x1y8NEsUMk0Q.html',\n",
       "  'http://mlg.ucd.ie/modules/yalp/reviews_-ZBfr1BHvArFp1d6XH8jOQ.html',\n",
       "  'http://mlg.ucd.ie/modules/yalp/reviews_vn0wYNms_5PseeYZ6pfLmA.html',\n",
       "  'http://mlg.ucd.ie/modules/yalp/reviews_FXCnmBZvK_7vaXOIv8txmw.html',\n",
       "  'http://mlg.ucd.ie/modules/yalp/reviews_vsiL3XBeoc4yh1lGWXwNdw.html',\n",
       "  'http://mlg.ucd.ie/modules/yalp/reviews_bRs0ejlkGV3K4b-PaBROuQ.html',\n",
       "  'http://mlg.ucd.ie/modules/yalp/reviews_k1mNR7eIi-UWVmj_t23Yog.html',\n",
       "  'http://mlg.ucd.ie/modules/yalp/reviews_sGlJTru2c707Vevy3ZmNMw.html',\n",
       "  'http://mlg.ucd.ie/modules/yalp/reviews_QrTvQw_aZOLk_8FZ8tQ_-w.html',\n",
       "  'http://mlg.ucd.ie/modules/yalp/reviews_gVILTnDFDsVuVdxFVkRK7A.html',\n",
       "  'http://mlg.ucd.ie/modules/yalp/reviews_7RUVYMpfc6_WbGYw6a_1Tw.html',\n",
       "  'http://mlg.ucd.ie/modules/yalp/reviews_ZxEvVRbOltIF0fua5SQssg.html',\n",
       "  'http://mlg.ucd.ie/modules/yalp/reviews_HAMLLfH-2ho37Y4zsa9bDw.html',\n",
       "  'http://mlg.ucd.ie/modules/yalp/reviews_EuPaczO6rMpDMrn-GtE_eA.html',\n",
       "  'http://mlg.ucd.ie/modules/yalp/reviews_N8bCOvrGH69jD3-CRc6Fpw.html',\n",
       "  'http://mlg.ucd.ie/modules/yalp/reviews_LqnKUCoiQksIPaO0qFkuGg.html',\n",
       "  'http://mlg.ucd.ie/modules/yalp/reviews_TZkwffx18AmMh9Yric5LjA.html',\n",
       "  'http://mlg.ucd.ie/modules/yalp/reviews_Ah_W72utgLC8U4rIr6VtsA.html']]"
      ]
     },
     "execution_count": 8,
     "metadata": {},
     "output_type": "execute_result"
    }
   ],
   "source": [
    "# The first list has the links of reviews of each business inside Hotels and Travel.\n",
    "# The second list has the links of reviews of each business inside Resturants.\n",
    "sublinks "
   ]
  },
  {
   "cell_type": "markdown",
   "metadata": {},
   "source": [
    "### _Below block of code does the task of scraping through the reviews and storing it in two dataframes which are again stored in a single list._"
   ]
  },
  {
   "cell_type": "code",
   "execution_count": 9,
   "metadata": {
    "collapsed": true
   },
   "outputs": [],
   "source": [
    "df=[] # We are creating an empty list where we would store our two dataframes. That is , a list of dataframes.\n",
    "i=0\n",
    "for data in sublinks:\n",
    "    e=[] # This temporary list stores the Reviews of each category for every iteration\n",
    "    rat=[] # This temporary list stores the Ratings of each category for every iteration\n",
    "    for d in data:\n",
    "        response = urllib.request.urlopen(d)\n",
    "        html = response.read().decode()\n",
    "        parser = bs4.BeautifulSoup(html,\"html.parser\")\n",
    "        for linkk in parser.findAll('p',class_='text'):\n",
    "            e.append(linkk.text)\n",
    "        for ratings in parser.findAll('img'):\n",
    "            if ratings.get('alt')!=None:\n",
    "                if int(ratings.get('alt')[0])<4:  #  1-star to 3-star reviews are “negative”, and 4-star to 5-star reviews as “positive”.\n",
    "                    rat.append('Negative')\n",
    "                else:\n",
    "                    rat.append('Positive')\n",
    "        \n",
    "    df.append(pd.DataFrame(e)) # Appending the two datadrame into a list\n",
    "    df[i]['Ratings']=rat       # Creating a new column Ratings which stores the rating \"Positive\" and \"Negative\".\n",
    "    i=i+1"
   ]
  },
  {
   "cell_type": "code",
   "execution_count": 10,
   "metadata": {
    "collapsed": true
   },
   "outputs": [],
   "source": [
    "# Renaming the column names in both dataframes\n",
    "df[0].columns=['Review','Ratings']\n",
    "df[1].columns=['Review','Ratings']"
   ]
  },
  {
   "cell_type": "code",
   "execution_count": 11,
   "metadata": {},
   "outputs": [
    {
     "data": {
      "text/html": [
       "<div>\n",
       "<style scoped>\n",
       "    .dataframe tbody tr th:only-of-type {\n",
       "        vertical-align: middle;\n",
       "    }\n",
       "\n",
       "    .dataframe tbody tr th {\n",
       "        vertical-align: top;\n",
       "    }\n",
       "\n",
       "    .dataframe thead th {\n",
       "        text-align: right;\n",
       "    }\n",
       "</style>\n",
       "<table border=\"1\" class=\"dataframe\">\n",
       "  <thead>\n",
       "    <tr style=\"text-align: right;\">\n",
       "      <th></th>\n",
       "      <th>Review</th>\n",
       "      <th>Ratings</th>\n",
       "    </tr>\n",
       "  </thead>\n",
       "  <tbody>\n",
       "    <tr>\n",
       "      <th>0</th>\n",
       "      <td>I have used this service before and was satisf...</td>\n",
       "      <td>Negative</td>\n",
       "    </tr>\n",
       "    <tr>\n",
       "      <th>1</th>\n",
       "      <td>First time I tried using them the driver was n...</td>\n",
       "      <td>Negative</td>\n",
       "    </tr>\n",
       "    <tr>\n",
       "      <th>2</th>\n",
       "      <td>Driver picked me up on time at 6AM and even kn...</td>\n",
       "      <td>Positive</td>\n",
       "    </tr>\n",
       "    <tr>\n",
       "      <th>3</th>\n",
       "      <td>First time using this taxi and limo company as...</td>\n",
       "      <td>Positive</td>\n",
       "    </tr>\n",
       "    <tr>\n",
       "      <th>4</th>\n",
       "      <td>Great experience. Driver was early and was ver...</td>\n",
       "      <td>Positive</td>\n",
       "    </tr>\n",
       "  </tbody>\n",
       "</table>\n",
       "</div>"
      ],
      "text/plain": [
       "                                              Review   Ratings\n",
       "0  I have used this service before and was satisf...  Negative\n",
       "1  First time I tried using them the driver was n...  Negative\n",
       "2  Driver picked me up on time at 6AM and even kn...  Positive\n",
       "3  First time using this taxi and limo company as...  Positive\n",
       "4  Great experience. Driver was early and was ver...  Positive"
      ]
     },
     "execution_count": 11,
     "metadata": {},
     "output_type": "execute_result"
    }
   ],
   "source": [
    "df[0].head() # Print out first 5 rows of the dataframe"
   ]
  },
  {
   "cell_type": "code",
   "execution_count": 12,
   "metadata": {},
   "outputs": [
    {
     "data": {
      "text/html": [
       "<div>\n",
       "<style scoped>\n",
       "    .dataframe tbody tr th:only-of-type {\n",
       "        vertical-align: middle;\n",
       "    }\n",
       "\n",
       "    .dataframe tbody tr th {\n",
       "        vertical-align: top;\n",
       "    }\n",
       "\n",
       "    .dataframe thead th {\n",
       "        text-align: right;\n",
       "    }\n",
       "</style>\n",
       "<table border=\"1\" class=\"dataframe\">\n",
       "  <thead>\n",
       "    <tr style=\"text-align: right;\">\n",
       "      <th></th>\n",
       "      <th>Review</th>\n",
       "      <th>Ratings</th>\n",
       "    </tr>\n",
       "  </thead>\n",
       "  <tbody>\n",
       "    <tr>\n",
       "      <th>0</th>\n",
       "      <td>Too expensive for what they had... i had an eg...</td>\n",
       "      <td>Negative</td>\n",
       "    </tr>\n",
       "    <tr>\n",
       "      <th>1</th>\n",
       "      <td>Very rustic place. Mismatched furniture, off K...</td>\n",
       "      <td>Positive</td>\n",
       "    </tr>\n",
       "    <tr>\n",
       "      <th>2</th>\n",
       "      <td>I highly recommend Au Festin de Babette for th...</td>\n",
       "      <td>Positive</td>\n",
       "    </tr>\n",
       "    <tr>\n",
       "      <th>3</th>\n",
       "      <td>Amazing soup and dauphinoise. BUT the wait for...</td>\n",
       "      <td>Negative</td>\n",
       "    </tr>\n",
       "    <tr>\n",
       "      <th>4</th>\n",
       "      <td>I went here by recommendation of a friend. Tho...</td>\n",
       "      <td>Negative</td>\n",
       "    </tr>\n",
       "  </tbody>\n",
       "</table>\n",
       "</div>"
      ],
      "text/plain": [
       "                                              Review   Ratings\n",
       "0  Too expensive for what they had... i had an eg...  Negative\n",
       "1  Very rustic place. Mismatched furniture, off K...  Positive\n",
       "2  I highly recommend Au Festin de Babette for th...  Positive\n",
       "3  Amazing soup and dauphinoise. BUT the wait for...  Negative\n",
       "4  I went here by recommendation of a friend. Tho...  Negative"
      ]
     },
     "execution_count": 12,
     "metadata": {},
     "output_type": "execute_result"
    }
   ],
   "source": [
    "df[1].head() # Print out first 5 rows of the dataframe"
   ]
  },
  {
   "cell_type": "markdown",
   "metadata": {},
   "source": [
    "## _<font color=blue>Task 2a: Applying Preprocessing steps for classification</font>_"
   ]
  },
  {
   "cell_type": "code",
   "execution_count": 13,
   "metadata": {
    "collapsed": true
   },
   "outputs": [],
   "source": [
    "# Factorize creates a unique numeric representation of the Ratings with Negative as 0 and Positive as 1\n",
    "df[0]['category_id'] = df[0]['Ratings'].factorize()[0]\n",
    "df[1]['category_id'] = df[1]['Ratings'].factorize()[0]"
   ]
  },
  {
   "cell_type": "code",
   "execution_count": 14,
   "metadata": {},
   "outputs": [
    {
     "data": {
      "text/html": [
       "<div>\n",
       "<style scoped>\n",
       "    .dataframe tbody tr th:only-of-type {\n",
       "        vertical-align: middle;\n",
       "    }\n",
       "\n",
       "    .dataframe tbody tr th {\n",
       "        vertical-align: top;\n",
       "    }\n",
       "\n",
       "    .dataframe thead th {\n",
       "        text-align: right;\n",
       "    }\n",
       "</style>\n",
       "<table border=\"1\" class=\"dataframe\">\n",
       "  <thead>\n",
       "    <tr style=\"text-align: right;\">\n",
       "      <th></th>\n",
       "      <th>Review</th>\n",
       "      <th>Ratings</th>\n",
       "      <th>category_id</th>\n",
       "    </tr>\n",
       "  </thead>\n",
       "  <tbody>\n",
       "    <tr>\n",
       "      <th>0</th>\n",
       "      <td>I have used this service before and was satisf...</td>\n",
       "      <td>Negative</td>\n",
       "      <td>0</td>\n",
       "    </tr>\n",
       "    <tr>\n",
       "      <th>1</th>\n",
       "      <td>First time I tried using them the driver was n...</td>\n",
       "      <td>Negative</td>\n",
       "      <td>0</td>\n",
       "    </tr>\n",
       "    <tr>\n",
       "      <th>2</th>\n",
       "      <td>Driver picked me up on time at 6AM and even kn...</td>\n",
       "      <td>Positive</td>\n",
       "      <td>1</td>\n",
       "    </tr>\n",
       "    <tr>\n",
       "      <th>3</th>\n",
       "      <td>First time using this taxi and limo company as...</td>\n",
       "      <td>Positive</td>\n",
       "      <td>1</td>\n",
       "    </tr>\n",
       "    <tr>\n",
       "      <th>4</th>\n",
       "      <td>Great experience. Driver was early and was ver...</td>\n",
       "      <td>Positive</td>\n",
       "      <td>1</td>\n",
       "    </tr>\n",
       "  </tbody>\n",
       "</table>\n",
       "</div>"
      ],
      "text/plain": [
       "                                              Review   Ratings  category_id\n",
       "0  I have used this service before and was satisf...  Negative            0\n",
       "1  First time I tried using them the driver was n...  Negative            0\n",
       "2  Driver picked me up on time at 6AM and even kn...  Positive            1\n",
       "3  First time using this taxi and limo company as...  Positive            1\n",
       "4  Great experience. Driver was early and was ver...  Positive            1"
      ]
     },
     "execution_count": 14,
     "metadata": {},
     "output_type": "execute_result"
    }
   ],
   "source": [
    "df[0].head() # Print out first 5 rows of the dataframe"
   ]
  },
  {
   "cell_type": "code",
   "execution_count": 15,
   "metadata": {
    "collapsed": true
   },
   "outputs": [],
   "source": [
    "# Creating dictionaries for future use.\n",
    "category_id_df = df[0][['Ratings', 'category_id']].drop_duplicates().sort_values('category_id')\n",
    "category_to_id = dict(category_id_df.values)\n",
    "id_to_category = dict(category_id_df[['category_id', 'Ratings']].values)"
   ]
  },
  {
   "cell_type": "code",
   "execution_count": 16,
   "metadata": {},
   "outputs": [
    {
     "data": {
      "text/plain": [
       "{0: 'Negative', 1: 'Positive'}"
      ]
     },
     "execution_count": 16,
     "metadata": {},
     "output_type": "execute_result"
    }
   ],
   "source": [
    "id_to_category"
   ]
  },
  {
   "cell_type": "code",
   "execution_count": 17,
   "metadata": {},
   "outputs": [
    {
     "data": {
      "text/plain": [
       "(1430, 3384)"
      ]
     },
     "execution_count": 17,
     "metadata": {},
     "output_type": "execute_result"
    }
   ],
   "source": [
    "# Using tfidf vectorizer to create feature sets which will be used in the classification model\n",
    "vectorizer = TfidfVectorizer(min_df=5, ngram_range=(1, 2), stop_words='english')\n",
    "A = vectorizer.fit_transform(df[0].Review).toarray()\n",
    "# display some sample weighted values\n",
    "labels_A=df[0].category_id\n",
    "A.shape"
   ]
  },
  {
   "cell_type": "markdown",
   "metadata": {},
   "source": [
    "## _<font color=blue>Task 2b: Building classification model to distinguish between positive and negative reviews</font>_"
   ]
  },
  {
   "cell_type": "markdown",
   "metadata": {},
   "source": [
    "### _Note: We are performing a binary classification task , that is Positive(1) or Negative(0)_"
   ]
  },
  {
   "cell_type": "code",
   "execution_count": 18,
   "metadata": {
    "collapsed": true
   },
   "outputs": [],
   "source": [
    "X_train, X_test, y_train, y_test = train_test_split(df[0]['Review'], df[0]['Ratings'], random_state = 0)\n",
    "count_vect = CountVectorizer()\n",
    "X_train_counts = count_vect.fit_transform(X_train)\n",
    "tfidf_transformer = TfidfTransformer()\n",
    "X_train_tfidf = tfidf_transformer.fit_transform(X_train_counts)\n",
    "clf = MultinomialNB().fit(X_train_tfidf, y_train)"
   ]
  },
  {
   "cell_type": "code",
   "execution_count": 19,
   "metadata": {},
   "outputs": [
    {
     "name": "stdout",
     "output_type": "stream",
     "text": [
      "['Positive']\n"
     ]
    }
   ],
   "source": [
    "print(clf.predict(count_vect.transform(['''Birthday dinner with my husband. This is my 4th time here and I have never been disappointed food wise. I had eggplant Parmesan and my husband had sausage peppers on penne pasta. Portions were HUGE. Kaitlyn, our server, was very attentive. This place blows Antonios away!!! Try it; you'll love it!!'''])))"
   ]
  },
  {
   "cell_type": "code",
   "execution_count": 20,
   "metadata": {},
   "outputs": [
    {
     "name": "stderr",
     "output_type": "stream",
     "text": [
      "/Users/akashnanndi/.local/lib/python3.6/site-packages/sklearn/linear_model/logistic.py:433: FutureWarning: Default solver will be changed to 'lbfgs' in 0.22. Specify a solver to silence this warning.\n",
      "  FutureWarning)\n",
      "/Users/akashnanndi/.local/lib/python3.6/site-packages/sklearn/linear_model/logistic.py:433: FutureWarning: Default solver will be changed to 'lbfgs' in 0.22. Specify a solver to silence this warning.\n",
      "  FutureWarning)\n",
      "/Users/akashnanndi/.local/lib/python3.6/site-packages/sklearn/linear_model/logistic.py:433: FutureWarning: Default solver will be changed to 'lbfgs' in 0.22. Specify a solver to silence this warning.\n",
      "  FutureWarning)\n",
      "/Users/akashnanndi/.local/lib/python3.6/site-packages/sklearn/linear_model/logistic.py:433: FutureWarning: Default solver will be changed to 'lbfgs' in 0.22. Specify a solver to silence this warning.\n",
      "  FutureWarning)\n",
      "/Users/akashnanndi/.local/lib/python3.6/site-packages/sklearn/linear_model/logistic.py:433: FutureWarning: Default solver will be changed to 'lbfgs' in 0.22. Specify a solver to silence this warning.\n",
      "  FutureWarning)\n"
     ]
    },
    {
     "data": {
      "image/png": "[encoded data removed]",
      "text/plain": [
       "<Figure size 1080x576 with 1 Axes>"
      ]
     },
     "metadata": {},
     "output_type": "display_data"
    }
   ],
   "source": [
    "# Creating a list of models to compare accuracies and choose the model fetching the highest accuracy\n",
    "models = [\n",
    "    RandomForestClassifier(n_estimators=200, max_depth=3, random_state=0),\n",
    "    KNeighborsClassifier(n_neighbors=3),\n",
    "    LinearSVC(),\n",
    "    DecisionTreeClassifier(),\n",
    "    MultinomialNB(),\n",
    "    LogisticRegression(random_state=0)\n",
    "]\n",
    "CV = 5 # Cross validation value\n",
    "cv_df = pd.DataFrame(index=range(CV * len(models)))\n",
    "entries = []\n",
    "for model in models:\n",
    "  model_name = model.__class__.__name__\n",
    "  accuracies = cross_val_score(model, A, labels_A, scoring='accuracy', cv=CV)\n",
    "  for fold_idx, accuracy in enumerate(accuracies):\n",
    "    entries.append((model_name, fold_idx, accuracy))\n",
    "cv_df = pd.DataFrame(entries, columns=['model_name', 'fold_idx', 'accuracy'])\n",
    "fig, ax = plt.subplots(figsize=(15,8))\n",
    "sns.boxplot(x='model_name', y='accuracy', data=cv_df,ax=ax)\n",
    "sns.stripplot(x='model_name', y='accuracy', data=cv_df, \n",
    "              size=15, jitter=True, edgecolor=\"gray\", linewidth=2,ax=ax)\n",
    "plt.title(\"Comparing Accuracies of the models\",fontsize=15)\n",
    "plt.rcParams.update({'font.size': 13})\n",
    "plt.show()"
   ]
  },
  {
   "cell_type": "markdown",
   "metadata": {},
   "source": [
    "### _From the above  boxplot comparisions among the models witha cross validation value of 5 we observe LinearSVC ,Logistic Regression and MultinomialNB among the top performers for the Dataset 1_"
   ]
  },
  {
   "cell_type": "code",
   "execution_count": 21,
   "metadata": {},
   "outputs": [
    {
     "data": {
      "text/plain": [
       "model_name\n",
       "DecisionTreeClassifier    0.748276\n",
       "KNeighborsClassifier      0.769979\n",
       "LinearSVC                 0.874108\n",
       "LogisticRegression        0.877631\n",
       "MultinomialNB             0.868530\n",
       "RandomForestClassifier    0.702841\n",
       "Name: accuracy, dtype: float64"
      ]
     },
     "execution_count": 21,
     "metadata": {},
     "output_type": "execute_result"
    }
   ],
   "source": [
    "cv_df.groupby('model_name').accuracy.mean() # Listing out accuracies of the above models we see that Logestic Regression performed better than the rest"
   ]
  },
  {
   "cell_type": "markdown",
   "metadata": {},
   "source": [
    "### _We choose Logistic Regression as it provides the better accuracy among the rest of the algorithms providing 87.76 % accuracy. Note that it might not be always that we choose accuracy as a benchmark for selecting the best classifier. It can depend upon the problem statement._"
   ]
  },
  {
   "cell_type": "markdown",
   "metadata": {},
   "source": [
    "### _<font color=green>Logistic Regression</font>: It is the go to method for any binary classification problem. An explanation of logistic regression can begin with an explanation of the standard logistic function. The logistic function is a Sigmoid function, which takes any real value between zero and one_\n",
    "\n",
    "### _a(t)= (e^t)/e^t+1_"
   ]
  },
  {
   "cell_type": "markdown",
   "metadata": {},
   "source": [
    "##  _<font color=blue>Task 2c: Test the predictions of the classification model using an appropriate evaluation strategy</font>_"
   ]
  },
  {
   "cell_type": "markdown",
   "metadata": {},
   "source": [
    "### _<font color=green>Evaluation and prediction results</font>_"
   ]
  },
  {
   "cell_type": "code",
   "execution_count": 22,
   "metadata": {},
   "outputs": [
    {
     "name": "stderr",
     "output_type": "stream",
     "text": [
      "/Users/akashnanndi/.local/lib/python3.6/site-packages/sklearn/linear_model/logistic.py:433: FutureWarning: Default solver will be changed to 'lbfgs' in 0.22. Specify a solver to silence this warning.\n",
      "  FutureWarning)\n"
     ]
    },
    {
     "data": {
      "image/png": "[encoded data removed]",
      "text/plain": [
       "<Figure size 504x504 with 2 Axes>"
      ]
     },
     "metadata": {},
     "output_type": "display_data"
    }
   ],
   "source": [
    "model = LogisticRegression(random_state=0)\n",
    "X_train, X_test, y_train, y_test, indices_train, indices_test = train_test_split(A, labels_A, df[0].index, test_size=0.33, random_state=0)\n",
    "model.fit(X_train, y_train) # Fitting the X_train and y_train to the model\n",
    "y_pred = model.predict(X_test) # Putting X_test into predict method\n",
    "conf_mat = confusion_matrix(y_test, y_pred) # Passing y_test and y_pred to generate the confusion matrix\n",
    "fig, ax = plt.subplots(figsize=(7,7))  # figsize is the size of the figure\n",
    "sns.heatmap(conf_mat, annot=True, fmt='d',\n",
    "            xticklabels=category_id_df.Ratings.values, yticklabels=category_id_df.Ratings.values)\n",
    "plt.ylabel('Actual')\n",
    "plt.xlabel('Predicted')\n",
    "plt.title(\"Confusion Matrix\",fontsize=15)\n",
    "plt.rcParams.update({'font.size': 13})\n",
    "plt.show()"
   ]
  },
  {
   "cell_type": "markdown",
   "metadata": {},
   "source": [
    "### _From the above confusion matrix we get the true positive and true negative rates which are quite high which tells us that the Logistic Regression does a good job in predicting the reviews for Hotels and Travels_"
   ]
  },
  {
   "cell_type": "markdown",
   "metadata": {},
   "source": [
    "### _<font color=green>Confusion matrix</font>_: A confusion matrix is a table that is often used to describe the performance of a classification model (or \"classifier\") on a set of test data for which the true values are known.The function confusion_matrix() compares real target labels to predictions, and produces a NumPy array._"
   ]
  },
  {
   "cell_type": "markdown",
   "metadata": {},
   "source": [
    "- ### _<font color=green>TP </font>_ = _Negative reviews correctly predicted as Negative_\n",
    "- ### _<font color=green>FP </font>_ = _Positive reviews incorrectly predicted as Negative_\n",
    "- ### _<font color=green>TN </font>_ = _Positive reviews correctly predicted as Positive_\n",
    "- ### _<font color=green>FN </font>_ = _Negative reviews incorrectly predicted as Positive_"
   ]
  },
  {
   "cell_type": "code",
   "execution_count": 23,
   "metadata": {},
   "outputs": [
    {
     "name": "stdout",
     "output_type": "stream",
     "text": [
      "Accuracy: 0.875\n",
      "              precision    recall  f1-score   support\n",
      "\n",
      "    Negative       0.90      0.81      0.85       211\n",
      "    Positive       0.86      0.93      0.89       261\n",
      "\n",
      "   micro avg       0.88      0.88      0.88       472\n",
      "   macro avg       0.88      0.87      0.87       472\n",
      "weighted avg       0.88      0.88      0.87       472\n",
      "\n"
     ]
    }
   ],
   "source": [
    "accuracy = metrics.accuracy_score(y_test, y_pred) # , normalize=True, sample_weight=None\n",
    "print(\"Accuracy: \" +  str(accuracy))\n",
    "print(metrics.classification_report(y_test, y_pred, target_names=df[0]['Ratings'].unique())) # Printing out the classification report which shows us the precision,recall and F1 Measure scores "
   ]
  },
  {
   "cell_type": "markdown",
   "metadata": {},
   "source": [
    "- ### _<font color=green>Accuracy </font>_ = _Accuracy is one metric for evaluating classification models. Informally, accuracy is the fraction of predictions our model got right. Formally, accuracy has the following definition:_\n",
    "### _Accuracy=TP+TN/Total no of predictions_"
   ]
  },
  {
   "cell_type": "markdown",
   "metadata": {},
   "source": [
    "- ### _<font color=green>Precision </font>_ = _Precision is defined as the number of true positives divided by the number of true positives plus the number of false positives._\n",
    "### _Precision= TP/TP+FP_\n"
   ]
  },
  {
   "cell_type": "markdown",
   "metadata": {},
   "source": [
    "- ### _<font color=green>Recall </font>_ = _The precise definition of recall is the number of true positives divided by the number of true positives plus the number of false negatives_\n",
    "### _Recall= TP/TP+FN_"
   ]
  },
  {
   "cell_type": "markdown",
   "metadata": {},
   "source": [
    "- ### _In cases where we want to find an optimal blend of precision and recall we can combine the two metrics using what is called the F1 score._"
   ]
  },
  {
   "cell_type": "markdown",
   "metadata": {},
   "source": [
    "- ### _<font color=green>F1 Measure</font>_ = _The F1 score is the harmonic mean of precision and recall taking both metrics into account in the following equation:_\n",
    "### _F1= 2*(Precision*Recall)/(Precision+Recall)_"
   ]
  },
  {
   "cell_type": "markdown",
   "metadata": {},
   "source": [
    "### _From the above confusion matrix and classification report we get that the logistic regression does a good job in calssifying and predicting the ratings of the reviews with \"Negative\" reviews having more precision in being predicted correctly which is at 90 %_"
   ]
  },
  {
   "cell_type": "markdown",
   "metadata": {},
   "source": [
    "### _<font color=green>Performing preprocessing, classification and predictions on the second dataset that is, hotels</font>_"
   ]
  },
  {
   "cell_type": "code",
   "execution_count": 24,
   "metadata": {
    "collapsed": true
   },
   "outputs": [],
   "source": [
    "# Creating dictionaries for future use.\n",
    "category_id_df = df[1][['Ratings', 'category_id']].drop_duplicates().sort_values('category_id')\n",
    "category_to_id = dict(category_id_df.values)\n",
    "id_to_category = dict(category_id_df[['category_id', 'Ratings']].values)"
   ]
  },
  {
   "cell_type": "code",
   "execution_count": 25,
   "metadata": {},
   "outputs": [
    {
     "data": {
      "text/plain": [
       "(1440, 2769)"
      ]
     },
     "execution_count": 25,
     "metadata": {},
     "output_type": "execute_result"
    }
   ],
   "source": [
    "# Using tfidf vectorizer to create feature sets which will be used in the classification model\n",
    "vectorizer = TfidfVectorizer(min_df=5, ngram_range=(1, 2), stop_words='english')\n",
    "B = vectorizer.fit_transform(df[1].Review).toarray()\n",
    "# display some sample weighted values\n",
    "labels_B=df[1].category_id\n",
    "B.shape"
   ]
  },
  {
   "cell_type": "code",
   "execution_count": 26,
   "metadata": {
    "collapsed": true
   },
   "outputs": [],
   "source": [
    "X_train, X_test, y_train, y_test = train_test_split(df[1]['Review'], df[1]['Ratings'], random_state = 0)\n",
    "count_vect = CountVectorizer()\n",
    "X_train_counts = count_vect.fit_transform(X_train)\n",
    "tfidf_transformer = TfidfTransformer()\n",
    "X_train_tfidf = tfidf_transformer.fit_transform(X_train_counts)\n",
    "clf = MultinomialNB().fit(X_train_tfidf, y_train)"
   ]
  },
  {
   "cell_type": "code",
   "execution_count": 27,
   "metadata": {},
   "outputs": [
    {
     "name": "stdout",
     "output_type": "stream",
     "text": [
      "['Positive']\n"
     ]
    }
   ],
   "source": [
    "print(clf.predict(count_vect.transform(['''Most of the beers on the menu that are supposed to be Belgian really aren't. There is no Blue Moon in Belgium or Northcoast brewery. And there are several more mistakes. They should get their act together and don't lie about the origins of their beers. There is no substitute for the real thing.'''])))"
   ]
  },
  {
   "cell_type": "code",
   "execution_count": 28,
   "metadata": {},
   "outputs": [
    {
     "name": "stderr",
     "output_type": "stream",
     "text": [
      "/Users/akashnanndi/.local/lib/python3.6/site-packages/sklearn/linear_model/logistic.py:433: FutureWarning: Default solver will be changed to 'lbfgs' in 0.22. Specify a solver to silence this warning.\n",
      "  FutureWarning)\n",
      "/Users/akashnanndi/.local/lib/python3.6/site-packages/sklearn/linear_model/logistic.py:433: FutureWarning: Default solver will be changed to 'lbfgs' in 0.22. Specify a solver to silence this warning.\n",
      "  FutureWarning)\n",
      "/Users/akashnanndi/.local/lib/python3.6/site-packages/sklearn/linear_model/logistic.py:433: FutureWarning: Default solver will be changed to 'lbfgs' in 0.22. Specify a solver to silence this warning.\n",
      "  FutureWarning)\n",
      "/Users/akashnanndi/.local/lib/python3.6/site-packages/sklearn/linear_model/logistic.py:433: FutureWarning: Default solver will be changed to 'lbfgs' in 0.22. Specify a solver to silence this warning.\n",
      "  FutureWarning)\n",
      "/Users/akashnanndi/.local/lib/python3.6/site-packages/sklearn/linear_model/logistic.py:433: FutureWarning: Default solver will be changed to 'lbfgs' in 0.22. Specify a solver to silence this warning.\n",
      "  FutureWarning)\n"
     ]
    },
    {
     "data": {
      "image/png": "[encoded data removed]",
      "text/plain": [
       "<Figure size 1080x576 with 1 Axes>"
      ]
     },
     "metadata": {},
     "output_type": "display_data"
    }
   ],
   "source": [
    "# Creating a list of models to compare accuracies and choose the model fetching the highest accuracy\n",
    "models = [\n",
    "    RandomForestClassifier(n_estimators=200, max_depth=3, random_state=0),\n",
    "    LinearSVC(),\n",
    "    KNeighborsClassifier(n_neighbors=3),\n",
    "    DecisionTreeClassifier(),\n",
    "    MultinomialNB(),\n",
    "    LogisticRegression(random_state=0),\n",
    "]\n",
    "CV = 5  # Cross validation value\n",
    "cv_df = pd.DataFrame(index=range(CV * len(models)))\n",
    "entries = []\n",
    "for model in models:\n",
    "  model_name = model.__class__.__name__\n",
    "  accuracies = cross_val_score(model, B, labels_B, scoring='accuracy', cv=CV)\n",
    "  for fold_idx, accuracy in enumerate(accuracies):\n",
    "    entries.append((model_name, fold_idx, accuracy))\n",
    "cv_df = pd.DataFrame(entries, columns=['model_name', 'fold_idx', 'accuracy'])\n",
    "fig, ax = plt.subplots(figsize=(15,8))\n",
    "sns.boxplot(x='model_name', y='accuracy', data=cv_df,ax=ax)\n",
    "sns.stripplot(x='model_name', y='accuracy', data=cv_df, \n",
    "              size=15, jitter=True, edgecolor=\"gray\", linewidth=2,ax=ax)\n",
    "plt.title(\"Comparing Accuracies of the models\",fontsize=15)\n",
    "plt.rcParams.update({'font.size': 13})\n",
    "plt.show()"
   ]
  },
  {
   "cell_type": "markdown",
   "metadata": {},
   "source": [
    "### _From the above  boxplot comparisions among the models with a cross validation score of 5 we observe LinearSVC among the top performers for the Dataset 2_"
   ]
  },
  {
   "cell_type": "code",
   "execution_count": 29,
   "metadata": {},
   "outputs": [
    {
     "data": {
      "text/plain": [
       "model_name\n",
       "DecisionTreeClassifier    0.749995\n",
       "KNeighborsClassifier      0.739641\n",
       "LinearSVC                 0.851388\n",
       "LogisticRegression        0.822927\n",
       "MultinomialNB             0.812517\n",
       "RandomForestClassifier    0.649312\n",
       "Name: accuracy, dtype: float64"
      ]
     },
     "execution_count": 29,
     "metadata": {},
     "output_type": "execute_result"
    }
   ],
   "source": [
    "cv_df.groupby('model_name').accuracy.mean() # Listing out accuracies of the above models"
   ]
  },
  {
   "cell_type": "markdown",
   "metadata": {},
   "source": [
    "### _<font color=green>Linear SVC</font>: The objective of a Linear SVC (Support Vector Classifier) is to fit to the data you provide, returning a \"best fit\" hyperplane that divides, or categorizes, your data. From there, after getting the hyperplane, you can then feed some features to your classifier to see what the \"predicted\" class is._"
   ]
  },
  {
   "cell_type": "markdown",
   "metadata": {},
   "source": [
    "### _<font color=green>Evaluation and prediction results</font>_"
   ]
  },
  {
   "cell_type": "code",
   "execution_count": 30,
   "metadata": {},
   "outputs": [
    {
     "data": {
      "image/png": "[encoded data removed]",
      "text/plain": [
       "<Figure size 504x504 with 2 Axes>"
      ]
     },
     "metadata": {},
     "output_type": "display_data"
    }
   ],
   "source": [
    " model = LinearSVC()\n",
    "X_train, X_test, y_train, y_test, indices_train, indices_test = train_test_split(B, labels_B, df[1].index, test_size=0.33, random_state=0)\n",
    "model.fit(X_train, y_train) # Fitting the X_train and y_train to the model\n",
    "y_pred = model.predict(X_test) # Putting X_test into predict method\n",
    " # Passing y_test and y_pred to generate the confusion matrix\n",
    "conf_mat = confusion_matrix(y_test, y_pred)# Passing y_test and y_pred to generate the confusion matrix\n",
    "fig, ax = plt.subplots(figsize=(7,7)) # figsize is the size of the figure\n",
    "sns.heatmap(conf_mat, annot=True, fmt='d',\n",
    "            xticklabels=category_id_df.Ratings.values, yticklabels=category_id_df.Ratings.values)\n",
    "plt.ylabel('Actual')\n",
    "plt.xlabel('Predicted')\n",
    "plt.title(\"Confusion matrix\",fontsize=15)\n",
    "plt.rcParams.update({'font.size': 13})\n",
    "plt.show()"
   ]
  },
  {
   "cell_type": "code",
   "execution_count": 31,
   "metadata": {},
   "outputs": [
    {
     "name": "stdout",
     "output_type": "stream",
     "text": [
      "Accuracy: 0.8466386554621849\n",
      "              precision    recall  f1-score   support\n",
      "\n",
      "    Negative       0.79      0.76      0.77       165\n",
      "    Positive       0.87      0.89      0.88       311\n",
      "\n",
      "   micro avg       0.85      0.85      0.85       476\n",
      "   macro avg       0.83      0.83      0.83       476\n",
      "weighted avg       0.85      0.85      0.85       476\n",
      "\n"
     ]
    }
   ],
   "source": [
    "accuracy = metrics.accuracy_score(y_test, y_pred) # , normalize=True, sample_weight=None\n",
    "print(\"Accuracy: \" +  str(accuracy))\n",
    "print(metrics.classification_report(y_test, y_pred, target_names=df[1]['Ratings'].unique()))# Printing out the classification report which shows us the precision,recall and F1 Measure scores "
   ]
  },
  {
   "cell_type": "markdown",
   "metadata": {},
   "source": [
    "### _From the above confusion matrix and classification report we get that the LinearSVC does a good job in calssifying and predicting the ratings of the reviews with \"Positive\" reviews having more precision in being predicted correctly which is at 87 %_"
   ]
  },
  {
   "cell_type": "markdown",
   "metadata": {},
   "source": [
    "## _<font color=blue>Task 3(a): Training on B, Evaluating on A</font>_"
   ]
  },
  {
   "cell_type": "code",
   "execution_count": 32,
   "metadata": {},
   "outputs": [
    {
     "data": {
      "text/plain": [
       "LinearSVC(C=1.0, class_weight=None, dual=True, fit_intercept=True,\n",
       "     intercept_scaling=1, loss='squared_hinge', max_iter=1000,\n",
       "     multi_class='ovr', penalty='l2', random_state=None, tol=0.0001,\n",
       "     verbose=0)"
      ]
     },
     "execution_count": 32,
     "metadata": {},
     "output_type": "execute_result"
    }
   ],
   "source": [
    "model = LinearSVC()\n",
    "X_train, X_test, y_train, y_test, indices_train, indices_test = train_test_split(B, labels_B, df[1].index, test_size=0.33, random_state=0)\n",
    "model.fit(X_train, y_train)"
   ]
  },
  {
   "cell_type": "code",
   "execution_count": 33,
   "metadata": {},
   "outputs": [
    {
     "data": {
      "text/plain": [
       "(1430, 2769)"
      ]
     },
     "execution_count": 33,
     "metadata": {},
     "output_type": "execute_result"
    }
   ],
   "source": [
    "B1=vectorizer.transform(df[0].Review).toarray() # We are using vectorizer.transform to have a common feature set between the two datasets\n",
    "B1.shape"
   ]
  },
  {
   "cell_type": "code",
   "execution_count": 34,
   "metadata": {},
   "outputs": [],
   "source": [
    "y_pred = model.predict(B1) # predict the whole test data for hotels and travels on the model created from the resturants dataset"
   ]
  },
  {
   "cell_type": "code",
   "execution_count": 35,
   "metadata": {},
   "outputs": [
    {
     "name": "stdout",
     "output_type": "stream",
     "text": [
      "Accuracy: 0.83006993006993\n",
      "              precision    recall  f1-score   support\n",
      "\n",
      "    Negative       0.80      0.82      0.81       637\n",
      "    Positive       0.86      0.83      0.84       793\n",
      "\n",
      "   micro avg       0.83      0.83      0.83      1430\n",
      "   macro avg       0.83      0.83      0.83      1430\n",
      "weighted avg       0.83      0.83      0.83      1430\n",
      "\n"
     ]
    }
   ],
   "source": [
    "accuracy = metrics.accuracy_score(df[0]['category_id'], y_pred) # , normalize=True, sample_weight=None\n",
    "print(\"Accuracy: \" +  str(accuracy))\n",
    "print(metrics.classification_report(df[0]['category_id'], y_pred, target_names=df[0]['Ratings'].unique()))"
   ]
  },
  {
   "cell_type": "code",
   "execution_count": 36,
   "metadata": {},
   "outputs": [
    {
     "data": {
      "image/png": "[encoded data removed]",
      "text/plain": [
       "<Figure size 504x504 with 2 Axes>"
      ]
     },
     "metadata": {},
     "output_type": "display_data"
    }
   ],
   "source": [
    "conf_mat = confusion_matrix(df[0]['category_id'], y_pred)# Passing y_test and y_pred to generate the confusion matrix\n",
    "fig, ax = plt.subplots(figsize=(7,7)) # figsize is the size of the figure\n",
    "sns.heatmap(conf_mat, annot=True, fmt='d',\n",
    "            xticklabels=category_id_df.Ratings.values, yticklabels=category_id_df.Ratings.values)\n",
    "plt.ylabel('Actual')\n",
    "plt.xlabel('Predicted')\n",
    "plt.title(\"Confusion matrix\",fontsize=15)\n",
    "plt.rcParams.update({'font.size': 13})\n",
    "plt.show()"
   ]
  },
  {
   "cell_type": "markdown",
   "metadata": {},
   "source": [
    "## _<font color=blue>Task 3(b): Training on A, Evaluating on B</font>_"
   ]
  },
  {
   "cell_type": "code",
   "execution_count": 37,
   "metadata": {},
   "outputs": [
    {
     "name": "stderr",
     "output_type": "stream",
     "text": [
      "/Users/akashnanndi/.local/lib/python3.6/site-packages/sklearn/linear_model/logistic.py:433: FutureWarning: Default solver will be changed to 'lbfgs' in 0.22. Specify a solver to silence this warning.\n",
      "  FutureWarning)\n"
     ]
    },
    {
     "data": {
      "text/plain": [
       "LogisticRegression(C=1.0, class_weight=None, dual=False, fit_intercept=True,\n",
       "          intercept_scaling=1, max_iter=100, multi_class='warn',\n",
       "          n_jobs=None, penalty='l2', random_state=0, solver='warn',\n",
       "          tol=0.0001, verbose=0, warm_start=False)"
      ]
     },
     "execution_count": 37,
     "metadata": {},
     "output_type": "execute_result"
    }
   ],
   "source": [
    "model = LogisticRegression(random_state=0)\n",
    "X_train, X_test, y_train, y_test, indices_train, indices_test = train_test_split(A, labels_A, df[0].index, test_size=0.33, random_state=0)\n",
    "model.fit(X_train, y_train)"
   ]
  },
  {
   "cell_type": "code",
   "execution_count": 38,
   "metadata": {},
   "outputs": [
    {
     "data": {
      "text/plain": [
       "(1430, 3384)"
      ]
     },
     "execution_count": 38,
     "metadata": {},
     "output_type": "execute_result"
    }
   ],
   "source": [
    "vectorizer = TfidfVectorizer(min_df=5, ngram_range=(1, 2), stop_words='english')\n",
    "A = vectorizer.fit_transform(df[0].Review).toarray()\n",
    "# display some sample weighted values\n",
    "labels_A=df[0].category_id\n",
    "A.shape"
   ]
  },
  {
   "cell_type": "code",
   "execution_count": 39,
   "metadata": {},
   "outputs": [
    {
     "data": {
      "text/plain": [
       "(1440, 3384)"
      ]
     },
     "execution_count": 39,
     "metadata": {},
     "output_type": "execute_result"
    }
   ],
   "source": [
    "A1=vectorizer.transform(df[1].Review).toarray()# We are using vectorizer.transform to have a common feature set between the two datasets\n",
    "A1.shape"
   ]
  },
  {
   "cell_type": "code",
   "execution_count": 40,
   "metadata": {
    "collapsed": true
   },
   "outputs": [],
   "source": [
    "y_pred = model.predict(A1)# predict the whole test data for hotels and travels on the model created from the resturants dataset"
   ]
  },
  {
   "cell_type": "code",
   "execution_count": 41,
   "metadata": {},
   "outputs": [
    {
     "name": "stdout",
     "output_type": "stream",
     "text": [
      "Accuracy: 0.8243055555555555\n",
      "              precision    recall  f1-score   support\n",
      "\n",
      "    Negative       0.91      0.56      0.69       507\n",
      "    Positive       0.80      0.97      0.88       933\n",
      "\n",
      "   micro avg       0.82      0.82      0.82      1440\n",
      "   macro avg       0.85      0.76      0.78      1440\n",
      "weighted avg       0.84      0.82      0.81      1440\n",
      "\n"
     ]
    }
   ],
   "source": [
    "accuracy = metrics.accuracy_score(df[1]['category_id'], y_pred) # , normalize=True, sample_weight=None\n",
    "print(\"Accuracy: \" +  str(accuracy))\n",
    "print(metrics.classification_report(df[1]['category_id'], y_pred, target_names=df[1]['Ratings'].unique()))"
   ]
  },
  {
   "cell_type": "code",
   "execution_count": 42,
   "metadata": {},
   "outputs": [
    {
     "data": {
      "image/png": "[encoded data removed]",
      "text/plain": [
       "<Figure size 504x504 with 2 Axes>"
      ]
     },
     "metadata": {},
     "output_type": "display_data"
    }
   ],
   "source": [
    "conf_mat = confusion_matrix(df[1]['category_id'], y_pred)# Passing y_test and y_pred to generate the confusion matrix\n",
    "fig, ax = plt.subplots(figsize=(7,7)) # figsize is the size of the figure\n",
    "sns.heatmap(conf_mat, annot=True, fmt='d',\n",
    "            xticklabels=category_id_df.Ratings.values, yticklabels=category_id_df.Ratings.values)\n",
    "plt.ylabel('Actual')\n",
    "plt.xlabel('Predicted')\n",
    "plt.title(\"Confusion matrix\",fontsize=15)\n",
    "plt.rcParams.update({'font.size': 13})\n",
    "plt.show()"
   ]
  },
  {
   "cell_type": "markdown",
   "metadata": {},
   "source": [
    "## _Inferences:_\n",
    "\n",
    "- ### _In the third task we train the model on Hotels & Travel and test it on the dataset for Resturants. Initially we were predicting the model on the test data generated from the split itself. Now we get an idea as to how our models are performing when trained on a completely new dataset. We see that both the models Linear SVC and Logistic Regression perform decently with accuracy of 82 % and 83 % respectively._\n",
    "- ### _The third task was to check whether the model performed well when used on an unseen dataset._\n",
    "- ### _We see that both the models avoid the problem of overfitting and underfitting well._"
   ]
  }
 ],
 "metadata": {
  "kernelspec": {
   "display_name": "Python 3",
   "language": "python",
   "name": "python3"
  },
  "language_info": {
   "codemirror_mode": {
    "name": "ipython",
    "version": 3
   },
   "file_extension": ".py",
   "mimetype": "text/x-python",
   "name": "python",
   "nbconvert_exporter": "python",
   "pygments_lexer": "ipython3",
   "version": "3.6.8"
  }
 },
 "nbformat": 4,
 "nbformat_minor": 2
}
